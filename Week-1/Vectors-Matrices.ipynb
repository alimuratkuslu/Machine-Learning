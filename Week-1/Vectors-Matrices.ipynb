{
 "cells": [
  {
   "cell_type": "code",
   "execution_count": 14,
   "id": "cb77bfdc",
   "metadata": {},
   "outputs": [
    {
     "data": {
      "text/plain": [
       "array([3, 2])"
      ]
     },
     "execution_count": 14,
     "metadata": {},
     "output_type": "execute_result"
    }
   ],
   "source": [
    "import numpy as np\n",
    "\n",
    "v = np.array([3, 2])\n",
    "v "
   ]
  },
  {
   "cell_type": "code",
   "execution_count": 18,
   "id": "c4115700",
   "metadata": {},
   "outputs": [
    {
     "data": {
      "image/png": "[encoded data removed]",
      "text/plain": [
       "<Figure size 640x480 with 1 Axes>"
      ]
     },
     "metadata": {},
     "output_type": "display_data"
    }
   ],
   "source": [
    "import matplotlib.pyplot as plt\n",
    "plt.quiver(0, 0, v[0], v[1], angles='xy', scale_units='xy', scale=1, color=\"gray\")\n",
    "plt.xlim(-1.5, 5)\n",
    "plt.ylim(-1.5, 5)\n",
    "plt.show()"
   ]
  },
  {
   "cell_type": "code",
   "execution_count": 31,
   "id": "b9017f7f",
   "metadata": {},
   "outputs": [
    {
     "data": {
      "text/plain": [
       "array([[-0.27071232,  0.10484805,  0.25052782],\n",
       "       [-0.92519997,  0.56714366, -1.04018022],\n",
       "       [-0.15367595,  0.78985181, -1.22621585],\n",
       "       [-0.94800699, -0.56965394, -0.97715021],\n",
       "       [-0.77063171, -0.03371129, -1.03285925]])"
      ]
     },
     "execution_count": 31,
     "metadata": {},
     "output_type": "execute_result"
    }
   ],
   "source": [
    "np.random.seed(41)\n",
    "C = np.random.normal(0, 1, (5, 3))\n",
    "C.shape # Matrisin boyutunu verir\n",
    "C\n",
    "# 5x3'lük bir matris ve değerlerini rastgele bir şekilde 0-1 arasından üret"
   ]
  },
  {
   "cell_type": "code",
   "execution_count": 21,
   "id": "59ce6f16",
   "metadata": {},
   "outputs": [
    {
     "data": {
      "text/plain": [
       "1.651436537097151"
      ]
     },
     "execution_count": 21,
     "metadata": {},
     "output_type": "execute_result"
    }
   ],
   "source": [
    "C[1, 2] # 1. satır 2. eleman"
   ]
  },
  {
   "cell_type": "code",
   "execution_count": 25,
   "id": "fd7614f4",
   "metadata": {},
   "outputs": [
    {
     "data": {
      "text/plain": [
       "array([-1.0856306 , -1.50629471, -2.42667924, -0.8667404 ,  1.49138963])"
      ]
     },
     "execution_count": 25,
     "metadata": {},
     "output_type": "execute_result"
    }
   ],
   "source": [
    "C[:, 0] # 1. column, : ile bütün satırları al"
   ]
  },
  {
   "cell_type": "code",
   "execution_count": 30,
   "id": "8e0e2524",
   "metadata": {},
   "outputs": [
    {
     "data": {
      "text/plain": [
       "array([ 0.2829785 ,  1.65143654,  1.26593626, -0.09470897, -0.44398196])"
      ]
     },
     "execution_count": 30,
     "metadata": {},
     "output_type": "execute_result"
    }
   ],
   "source": [
    "C[:, -1] # -1 değerini vererek son column alınır"
   ]
  },
  {
   "cell_type": "code",
   "execution_count": 33,
   "id": "7af66cc0",
   "metadata": {},
   "outputs": [
    {
     "data": {
      "text/plain": [
       "array([-0.92519997,  0.56714366, -1.04018022])"
      ]
     },
     "execution_count": 33,
     "metadata": {},
     "output_type": "execute_result"
    }
   ],
   "source": [
    "C[1, :] # 1. satırın bütün elemanları"
   ]
  },
  {
   "cell_type": "code",
   "execution_count": 35,
   "id": "aa280934",
   "metadata": {},
   "outputs": [
    {
     "data": {
      "text/plain": [
       "array([[-0.27071232, -0.92519997, -0.15367595, -0.94800699, -0.77063171],\n",
       "       [ 0.10484805,  0.56714366,  0.78985181, -0.56965394, -0.03371129],\n",
       "       [ 0.25052782, -1.04018022, -1.22621585, -0.97715021, -1.03285925]])"
      ]
     },
     "execution_count": 35,
     "metadata": {},
     "output_type": "execute_result"
    }
   ],
   "source": [
    "C.transpose() # 5x3 olan matrisi 3x5 şeklinde yapar"
   ]
  }
 ],
 "metadata": {
  "kernelspec": {
   "display_name": "Python 3 (ipykernel)",
   "language": "python",
   "name": "python3"
  },
  "language_info": {
   "codemirror_mode": {
    "name": "ipython",
    "version": 3
   },
   "file_extension": ".py",
   "mimetype": "text/x-python",
   "name": "python",
   "nbconvert_exporter": "python",
   "pygments_lexer": "ipython3",
   "version": "3.11.3"
  }
 },
 "nbformat": 4,
 "nbformat_minor": 5
}
